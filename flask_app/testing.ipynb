{
 "cells": [
  {
   "cell_type": "code",
   "execution_count": 3,
   "metadata": {},
   "outputs": [],
   "source": [
    "!export LD_PRELOAD=/usr/lib/aarch64-linux-gnu/libgomp.so.1"
   ]
  },
  {
   "cell_type": "code",
   "execution_count": 7,
   "metadata": {},
   "outputs": [
    {
     "name": "stdout",
     "output_type": "stream",
     "text": [
      "/home/sdpl/Sadaf/flask_app\n"
     ]
    }
   ],
   "source": [
    "import glob\n",
    "!pwd"
   ]
  },
  {
   "cell_type": "code",
   "execution_count": 4,
   "metadata": {},
   "outputs": [],
   "source": [
    "# import tensorflow as tf\n",
    "# import os\n",
    "# facenet_model = tf.keras.models.load_model(\"84_percent_accuracy.tflite\")\n",
    "# tf.keras.models.save_model(facenet_model, 'New_Model.h5') # Saving the Model in H5 Format\n",
    "# loaded_model_from_h5 = tf.keras.models.load_model('New_Model.h5') # Loading the H5 Saved Model\n",
    "# print(loaded_model_from_h5.summary())"
   ]
  },
  {
   "cell_type": "code",
   "execution_count": null,
   "metadata": {},
   "outputs": [],
   "source": [
    "#blotch\n",
    "# For file file, the output is [[92 80 64 20]]\n",
    "#normal\n",
    "# For file file, the output is [[ 16 166  56  17]]\n",
    "#rotton\n",
    "# For file file, the output is [[ 46   2 140  68]]\n",
    "#scab\n",
    "# For file file, the output is [[ 28  11  87 129]]\n",
    "\n",
    "# {0:\"blotch\",1:\"normal\",2:\"rotten\",3:\"scab\"}"
   ]
  },
  {
   "cell_type": "code",
   "execution_count": 28,
   "metadata": {},
   "outputs": [
    {
     "name": "stdout",
     "output_type": "stream",
     "text": [
      "[{'name': 'input_6', 'index': 0, 'shape': array([  1, 224, 224,   3], dtype=int32), 'shape_signature': array([ -1, 224, 224,   3], dtype=int32), 'dtype': <class 'numpy.uint8'>, 'quantization': (0.003921568859368563, 0), 'quantization_parameters': {'scales': array([0.00392157], dtype=float32), 'zero_points': array([0], dtype=int32), 'quantized_dimension': 0}, 'sparsity_parameters': {}}]\n",
      "(224, 224, 3)\n",
      "0.22\n",
      "For file file, the output is [('blotch', 0.0), ('normal', 0.82417583), ('rotten', 0.21978022), ('scab', 0.0054945056)]\n",
      "blotch 0.0\n",
      "normal 0.82417583\n",
      "rotten 0.21978022\n",
      "scab 0.0054945056\n"
     ]
    }
   ],
   "source": [
    "\n",
    "import cv2 \n",
    "import tensorflow as tf\n",
    "import numpy as np\n",
    "\n",
    "\n",
    "labels=[\"blotch\",\"normal\",\"rotten\",\"scab\"]\n",
    "# Load the TFLite model and allocate tensors\n",
    "interpreter = tf.lite.Interpreter(model_path=\"84_percent_accuracy.tflite\")\n",
    "interpreter.allocate_tensors()\n",
    "\n",
    "# Get input and output tensors\n",
    "input_details = interpreter.get_input_details()\n",
    "print(input_details)\n",
    "output_details = interpreter.get_output_details()\n",
    "\n",
    "path = r'static/normal1.jpeg'\n",
    "img = cv2.imread(path)\n",
    "new_img = cv2.resize(img, (224,224))\n",
    "print(new_img.shape)\n",
    "new_img = np.array(new_img)\n",
    "# new_img = np.transpose(new_img, (2, 0, 1))\n",
    "# input_details[0]['index'] = the index which accepts the input\n",
    "# expected type FLOAT32 for input 0, name: serving_default_input_1 \n",
    "\n",
    "interpreter.set_tensor(input_details[0]['index'], [new_img])\n",
    "\n",
    "# run the inference\n",
    "interpreter.invoke()\n",
    "\n",
    "# output_details[0]['index'] = the index which provides the input\n",
    "output_data = interpreter.get_tensor(output_details[0]['index'])\n",
    "minval=min(output_data[0])\n",
    "maxval=max(output_data[0])\n",
    "results=[(i-minval)/(minval+maxval) for i in output_data[0]]\n",
    "print(round(results[2],2))\n",
    "output_map=[ i for i in zip(labels,results)]\n",
    "\n",
    "print(\"For file {}, the output is {}\".format(\"file\", output_map))\n",
    "for label,val in output_map:\n",
    "    print(label,val)"
   ]
  }
 ],
 "metadata": {
  "interpreter": {
   "hash": "df0893f56f349688326838aaeea0de204df53a132722cbd565e54b24a8fec5f6"
  },
  "kernelspec": {
   "display_name": "Python 3.8.0 64-bit",
   "language": "python",
   "name": "python3"
  },
  "language_info": {
   "codemirror_mode": {
    "name": "ipython",
    "version": 3
   },
   "file_extension": ".py",
   "mimetype": "text/x-python",
   "name": "python",
   "nbconvert_exporter": "python",
   "pygments_lexer": "ipython3",
   "version": "3.6.9"
  },
  "orig_nbformat": 4
 },
 "nbformat": 4,
 "nbformat_minor": 2
}
